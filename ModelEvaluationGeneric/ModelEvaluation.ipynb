{
 "cells": [
  {
   "cell_type": "code",
   "execution_count": 1,
   "id": "78601f82",
   "metadata": {},
   "outputs": [],
   "source": [
    "from sklearn.linear_model import LogisticRegression\n",
    "from sklearn.neighbors import KNeighborsClassifier\n",
    "from sklearn.tree import DecisionTreeClassifier\n",
    "from sklearn.ensemble import RandomForestClassifier\n",
    "\n",
    "from sklearn.model_selection import GridSearchCV\n",
    "\n",
    "import pandas as pd\n",
    "import numpy as np\n",
    "import matplotlib.pyplot as plt\n",
    "import seaborn as sns"
   ]
  },
  {
   "cell_type": "code",
   "execution_count": 2,
   "id": "de381adf",
   "metadata": {},
   "outputs": [
    {
     "data": {
      "text/html": [
       "<div>\n",
       "<style scoped>\n",
       "    .dataframe tbody tr th:only-of-type {\n",
       "        vertical-align: middle;\n",
       "    }\n",
       "\n",
       "    .dataframe tbody tr th {\n",
       "        vertical-align: top;\n",
       "    }\n",
       "\n",
       "    .dataframe thead th {\n",
       "        text-align: right;\n",
       "    }\n",
       "</style>\n",
       "<table border=\"1\" class=\"dataframe\">\n",
       "  <thead>\n",
       "    <tr style=\"text-align: right;\">\n",
       "      <th></th>\n",
       "      <th>SAT</th>\n",
       "      <th>Admitted</th>\n",
       "      <th>Gender</th>\n",
       "    </tr>\n",
       "  </thead>\n",
       "  <tbody>\n",
       "    <tr>\n",
       "      <th>0</th>\n",
       "      <td>1363</td>\n",
       "      <td>No</td>\n",
       "      <td>Male</td>\n",
       "    </tr>\n",
       "    <tr>\n",
       "      <th>1</th>\n",
       "      <td>1792</td>\n",
       "      <td>Yes</td>\n",
       "      <td>Female</td>\n",
       "    </tr>\n",
       "    <tr>\n",
       "      <th>2</th>\n",
       "      <td>1954</td>\n",
       "      <td>Yes</td>\n",
       "      <td>Female</td>\n",
       "    </tr>\n",
       "    <tr>\n",
       "      <th>3</th>\n",
       "      <td>1653</td>\n",
       "      <td>No</td>\n",
       "      <td>Male</td>\n",
       "    </tr>\n",
       "    <tr>\n",
       "      <th>4</th>\n",
       "      <td>1593</td>\n",
       "      <td>No</td>\n",
       "      <td>Male</td>\n",
       "    </tr>\n",
       "  </tbody>\n",
       "</table>\n",
       "</div>"
      ],
      "text/plain": [
       "    SAT Admitted  Gender\n",
       "0  1363       No    Male\n",
       "1  1792      Yes  Female\n",
       "2  1954      Yes  Female\n",
       "3  1653       No    Male\n",
       "4  1593       No    Male"
      ]
     },
     "execution_count": 2,
     "metadata": {},
     "output_type": "execute_result"
    }
   ],
   "source": [
    "# Reading the csv file and putting it into 'df' object.\n",
    "df = pd.read_csv('Binary-predictors.csv')\n",
    "df.head()"
   ]
  },
  {
   "cell_type": "code",
   "execution_count": 3,
   "id": "680fd28e",
   "metadata": {},
   "outputs": [],
   "source": [
    "df['Admitted']  =  df['Admitted'].map(lambda x : 1 if x == 'No' else 0)\n",
    "df['Gender'] = df['Gender'].map(lambda x : 1 if x == 'Male' else 0)"
   ]
  },
  {
   "cell_type": "code",
   "execution_count": 4,
   "id": "6e921dcc",
   "metadata": {},
   "outputs": [],
   "source": [
    "X = df.drop('Admitted',axis=1)\n",
    "y= df['Admitted']"
   ]
  },
  {
   "cell_type": "code",
   "execution_count": 5,
   "id": "dfca6374",
   "metadata": {},
   "outputs": [],
   "source": [
    "from sklearn.model_selection import train_test_split\n",
    "\n",
    "X_train,X_test, y_train, y_test = train_test_split(X,y, test_size=0.2,random_state=1,stratify=y)\n"
   ]
  },
  {
   "cell_type": "code",
   "execution_count": 6,
   "id": "93022b5c",
   "metadata": {},
   "outputs": [],
   "source": [
    "# Parameters\n",
    "\n",
    "p_log_reg = {}\n",
    "\n",
    "\n",
    "# KNN\n",
    "p_knn = {\n",
    "    'n_neighbors': range(1,20)\n",
    "    }\n",
    "\n",
    "# DT\n",
    "p_dt = {\n",
    "             'criterion': [\n",
    "                #'entropy', \n",
    "               'gini'],\n",
    "             'max_depth': range(1,6,1),\n",
    "             'min_samples_leaf': range(2, 10, 5),\n",
    "             'min_samples_split': range(2, 10, 5),\n",
    "             'max_features': ['auto']\n",
    "}\n",
    "\n",
    "# RF\n",
    "\n",
    "p_rf = {\n",
    "    'max_depth': range(1,6,1),\n",
    "    'min_samples_leaf': range(2, 10, 5),\n",
    "    'min_samples_split': range(2, 10, 5),\n",
    "    'n_estimators': [ i for i in range(30,60)], \n",
    "    'max_features': ['auto']\n",
    "}\n",
    "\n",
    "\n",
    "logistic_clf = LogisticRegression()\n",
    "knn_clf = KNeighborsClassifier()\n",
    "dt_clf = DecisionTreeClassifier()\n",
    "rf_clf = RandomForestClassifier()\n"
   ]
  },
  {
   "cell_type": "code",
   "execution_count": 7,
   "id": "f22b7f35",
   "metadata": {},
   "outputs": [],
   "source": [
    "# for binary\n",
    "def accuracies():\n",
    "    # Params for algos\n",
    "    params = [ p_log_reg, p_knn, p_dt,p_rf ]\n",
    "    # algos\n",
    "    clfs = [ logistic_clf, knn_clf, dt_clf,rf_clf ]\n",
    "    scores = []\n",
    "    best_estimators = [ ]\n",
    "    \n",
    "    for i in range(len(clfs)) :\n",
    "        gscv = GridSearchCV(clfs[i],params[i],cv=3,n_jobs=-1)\n",
    "        gscv.fit(X_train,y_train)\n",
    "        best_estimators.append(gscv.best_estimator_)\n",
    "        scores.append(gscv.best_score_)\n",
    "        print(i)\n",
    "    return scores,best_estimators"
   ]
  },
  {
   "cell_type": "code",
   "execution_count": 8,
   "id": "05b69304",
   "metadata": {
    "scrolled": true
   },
   "outputs": [
    {
     "name": "stdout",
     "output_type": "stream",
     "text": [
      "0\n",
      "1\n",
      "2\n",
      "3\n"
     ]
    }
   ],
   "source": [
    "scores,best_estimators = accuracies()"
   ]
  },
  {
   "cell_type": "code",
   "execution_count": 9,
   "id": "649690d0",
   "metadata": {},
   "outputs": [
    {
     "data": {
      "text/plain": [
       "[0.9181818181818183,\n",
       " 0.9404040404040405,\n",
       " 0.9104377104377104,\n",
       " 0.9404040404040405]"
      ]
     },
     "execution_count": 9,
     "metadata": {},
     "output_type": "execute_result"
    }
   ],
   "source": [
    "scores\n",
    "# [ Logistic , KNN , Decision Tree ,Random Forest ]"
   ]
  },
  {
   "cell_type": "code",
   "execution_count": 10,
   "id": "c46e6b4d",
   "metadata": {},
   "outputs": [
    {
     "data": {
      "text/plain": [
       "[LogisticRegression(),\n",
       " KNeighborsClassifier(n_neighbors=17),\n",
       " DecisionTreeClassifier(max_depth=2, max_features='auto', min_samples_leaf=2),\n",
       " RandomForestClassifier(max_depth=1, min_samples_leaf=2, min_samples_split=7,\n",
       "                        n_estimators=56)]"
      ]
     },
     "execution_count": 10,
     "metadata": {},
     "output_type": "execute_result"
    }
   ],
   "source": [
    "best_estimators"
   ]
  },
  {
   "cell_type": "code",
   "execution_count": 16,
   "id": "23aa345d",
   "metadata": {},
   "outputs": [],
   "source": [
    "log_reg = LogisticRegression()\n",
    "knn = KNeighborsClassifier(n_neighbors=17)\n",
    "dt  = DecisionTreeClassifier(max_depth=2, max_features='auto', min_samples_leaf=7)\n",
    "rf = RandomForestClassifier(max_depth=1, min_samples_leaf=2, min_samples_split=7,n_estimators=56)"
   ]
  },
  {
   "cell_type": "code",
   "execution_count": 17,
   "id": "1435aca5",
   "metadata": {},
   "outputs": [
    {
     "data": {
      "text/plain": [
       "(0.9402985074626866, 0.9411764705882353)"
      ]
     },
     "execution_count": 17,
     "metadata": {},
     "output_type": "execute_result"
    }
   ],
   "source": [
    "# LogisticRegression\n",
    "log_reg.fit(X_train,y_train)\n",
    "log_reg.score(X_train,y_train) , log_reg.score(X_test,y_test)"
   ]
  },
  {
   "cell_type": "code",
   "execution_count": 18,
   "id": "0f23243c",
   "metadata": {},
   "outputs": [
    {
     "data": {
      "text/plain": [
       "(0.9253731343283582, 0.9117647058823529)"
      ]
     },
     "execution_count": 18,
     "metadata": {},
     "output_type": "execute_result"
    }
   ],
   "source": [
    "# KNN\n",
    "knn.fit(X_train,y_train)\n",
    "knn.score(X_train,y_train) , knn.score(X_test,y_test)"
   ]
  },
  {
   "cell_type": "code",
   "execution_count": 19,
   "id": "69c3744f",
   "metadata": {},
   "outputs": [
    {
     "data": {
      "text/plain": [
       "(0.9552238805970149, 0.9705882352941176)"
      ]
     },
     "execution_count": 19,
     "metadata": {},
     "output_type": "execute_result"
    }
   ],
   "source": [
    "# dt\n",
    "dt.fit(X_train,y_train)\n",
    "dt.score(X_train,y_train) , dt.score(X_test,y_test)"
   ]
  },
  {
   "cell_type": "code",
   "execution_count": 20,
   "id": "a78436dc",
   "metadata": {},
   "outputs": [
    {
     "data": {
      "text/plain": [
       "(0.9552238805970149, 0.9705882352941176)"
      ]
     },
     "execution_count": 20,
     "metadata": {},
     "output_type": "execute_result"
    }
   ],
   "source": [
    "# rd\n",
    "rf.fit(X_train,y_train)\n",
    "rf.score(X_train,y_train) , rf.score(X_test,y_test)"
   ]
  }
 ],
 "metadata": {
  "kernelspec": {
   "display_name": "Python 3 (ipykernel)",
   "language": "python",
   "name": "python3"
  },
  "language_info": {
   "codemirror_mode": {
    "name": "ipython",
    "version": 3
   },
   "file_extension": ".py",
   "mimetype": "text/x-python",
   "name": "python",
   "nbconvert_exporter": "python",
   "pygments_lexer": "ipython3",
   "version": "3.9.7"
  }
 },
 "nbformat": 4,
 "nbformat_minor": 5
}
